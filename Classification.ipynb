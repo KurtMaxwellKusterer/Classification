{
 "cells": [
  {
   "cell_type": "markdown",
   "id": "2ad06f79-394a-4f0a-a8aa-5077b0a2a64a",
   "metadata": {},
   "source": [
    "## Classification"
   ]
  },
  {
   "cell_type": "code",
   "execution_count": 17,
   "id": "bb7f021e-eb41-4686-b537-53b2f545e287",
   "metadata": {},
   "outputs": [],
   "source": [
    "# Standard Data manipulation and visualization\n",
    "import numpy as np \n",
    "import pandas as pd \n",
    "import seaborn as sns\n",
    "import matplotlib.pyplot as plt\n",
    "%matplotlib inline\n",
    "\n",
    "\n",
    "\n",
    "# Data pre-processing\n",
    "from sklearn.model_selection import train_test_split\n",
    "\n",
    "# Machine learning\n",
    "from sklearn.ensemble import RandomForestClassifier\n",
    "from sklearn.metrics import accuracy_score \n",
    "\n",
    "# Cross validation\n",
    "from sklearn.model_selection import  cross_val_score\n",
    "\n",
    "# Stochatic Gradient decent classifier\n",
    "from sklearn.linear_model import SGDClassifier\n",
    "\n",
    "# Support Vector Machine \n",
    "from sklearn.svm import SVC\n",
    "\n",
    "# Grid Search \n",
    "from sklearn.model_selection import GridSearchCV"
   ]
  },
  {
   "cell_type": "code",
   "execution_count": 7,
   "id": "ae16024b-dc3b-40d3-89ba-08062e666d60",
   "metadata": {},
   "outputs": [],
   "source": [
    "# Load data set\n",
    "wine=pd.read_csv('C:/Users/kurtk/OneDrive/Documents/Python projects/Classification/winequality-red.csv')"
   ]
  },
  {
   "cell_type": "code",
   "execution_count": 8,
   "id": "b6cfb726-de61-4d34-84a6-7c8043260d14",
   "metadata": {
    "scrolled": true
   },
   "outputs": [
    {
     "name": "stdout",
     "output_type": "stream",
     "text": [
      "First ten rows    fixed acidity  volatile acidity  citric acid  residual sugar  chlorides  \\\n",
      "0            7.4              0.70         0.00             1.9      0.076   \n",
      "1            7.8              0.88         0.00             2.6      0.098   \n",
      "2            7.8              0.76         0.04             2.3      0.092   \n",
      "3           11.2              0.28         0.56             1.9      0.075   \n",
      "4            7.4              0.70         0.00             1.9      0.076   \n",
      "5            7.4              0.66         0.00             1.8      0.075   \n",
      "6            7.9              0.60         0.06             1.6      0.069   \n",
      "7            7.3              0.65         0.00             1.2      0.065   \n",
      "8            7.8              0.58         0.02             2.0      0.073   \n",
      "9            7.5              0.50         0.36             6.1      0.071   \n",
      "\n",
      "   free sulfur dioxide  total sulfur dioxide  density    pH  sulphates  \\\n",
      "0                 11.0                  34.0   0.9978  3.51       0.56   \n",
      "1                 25.0                  67.0   0.9968  3.20       0.68   \n",
      "2                 15.0                  54.0   0.9970  3.26       0.65   \n",
      "3                 17.0                  60.0   0.9980  3.16       0.58   \n",
      "4                 11.0                  34.0   0.9978  3.51       0.56   \n",
      "5                 13.0                  40.0   0.9978  3.51       0.56   \n",
      "6                 15.0                  59.0   0.9964  3.30       0.46   \n",
      "7                 15.0                  21.0   0.9946  3.39       0.47   \n",
      "8                  9.0                  18.0   0.9968  3.36       0.57   \n",
      "9                 17.0                 102.0   0.9978  3.35       0.80   \n",
      "\n",
      "   alcohol  quality  \n",
      "0      9.4        5  \n",
      "1      9.8        5  \n",
      "2      9.8        5  \n",
      "3      9.8        6  \n",
      "4      9.4        5  \n",
      "5      9.4        5  \n",
      "6      9.4        5  \n",
      "7     10.0        7  \n",
      "8      9.5        7  \n",
      "9     10.5        5  \n",
      "Last ten rows       fixed acidity  volatile acidity  citric acid  residual sugar  chlorides  \\\n",
      "1589            6.6             0.725         0.20             7.8      0.073   \n",
      "1590            6.3             0.550         0.15             1.8      0.077   \n",
      "1591            5.4             0.740         0.09             1.7      0.089   \n",
      "1592            6.3             0.510         0.13             2.3      0.076   \n",
      "1593            6.8             0.620         0.08             1.9      0.068   \n",
      "1594            6.2             0.600         0.08             2.0      0.090   \n",
      "1595            5.9             0.550         0.10             2.2      0.062   \n",
      "1596            6.3             0.510         0.13             2.3      0.076   \n",
      "1597            5.9             0.645         0.12             2.0      0.075   \n",
      "1598            6.0             0.310         0.47             3.6      0.067   \n",
      "\n",
      "      free sulfur dioxide  total sulfur dioxide  density    pH  sulphates  \\\n",
      "1589                 29.0                  79.0  0.99770  3.29       0.54   \n",
      "1590                 26.0                  35.0  0.99314  3.32       0.82   \n",
      "1591                 16.0                  26.0  0.99402  3.67       0.56   \n",
      "1592                 29.0                  40.0  0.99574  3.42       0.75   \n",
      "1593                 28.0                  38.0  0.99651  3.42       0.82   \n",
      "1594                 32.0                  44.0  0.99490  3.45       0.58   \n",
      "1595                 39.0                  51.0  0.99512  3.52       0.76   \n",
      "1596                 29.0                  40.0  0.99574  3.42       0.75   \n",
      "1597                 32.0                  44.0  0.99547  3.57       0.71   \n",
      "1598                 18.0                  42.0  0.99549  3.39       0.66   \n",
      "\n",
      "      alcohol  quality  \n",
      "1589      9.2        5  \n",
      "1590     11.6        6  \n",
      "1591     11.6        6  \n",
      "1592     11.0        6  \n",
      "1593      9.5        6  \n",
      "1594     10.5        5  \n",
      "1595     11.2        6  \n",
      "1596     11.0        6  \n",
      "1597     10.2        5  \n",
      "1598     11.0        6  \n"
     ]
    }
   ],
   "source": [
    "# Show the first ten rows in the data set \n",
    "print(\"First ten rows\", wine.head(10))\n",
    "# Show the last ten rows in the data set\n",
    "print(\"Last ten rows\", wine.tail(10))"
   ]
  },
  {
   "cell_type": "code",
   "execution_count": 9,
   "id": "e86e57dd-ab73-446b-b5a5-a0ac9bfe8ed5",
   "metadata": {},
   "outputs": [
    {
     "name": "stdout",
     "output_type": "stream",
     "text": [
      "<class 'pandas.core.frame.DataFrame'>\n",
      "RangeIndex: 1599 entries, 0 to 1598\n",
      "Data columns (total 12 columns):\n",
      " #   Column                Non-Null Count  Dtype  \n",
      "---  ------                --------------  -----  \n",
      " 0   fixed acidity         1599 non-null   float64\n",
      " 1   volatile acidity      1599 non-null   float64\n",
      " 2   citric acid           1599 non-null   float64\n",
      " 3   residual sugar        1599 non-null   float64\n",
      " 4   chlorides             1599 non-null   float64\n",
      " 5   free sulfur dioxide   1599 non-null   float64\n",
      " 6   total sulfur dioxide  1599 non-null   float64\n",
      " 7   density               1599 non-null   float64\n",
      " 8   pH                    1599 non-null   float64\n",
      " 9   sulphates             1599 non-null   float64\n",
      " 10  alcohol               1599 non-null   float64\n",
      " 11  quality               1599 non-null   int64  \n",
      "dtypes: float64(11), int64(1)\n",
      "memory usage: 150.0 KB\n"
     ]
    }
   ],
   "source": [
    "# She all information for the data set\n",
    "wine.info()"
   ]
  },
  {
   "cell_type": "markdown",
   "id": "4e9a9455-1d6a-4d52-a64b-55b5a91bad2a",
   "metadata": {},
   "source": [
    "### Data visualization"
   ]
  },
  {
   "cell_type": "code",
   "execution_count": 19,
   "id": "39ce5494-eebc-4480-815a-21c269aeba9e",
   "metadata": {
    "scrolled": true
   },
   "outputs": [
    {
     "data": {
      "image/png": "[encoded data removed]",
      "text/plain": [
       "<Figure size 1000x600 with 1 Axes>"
      ]
     },
     "metadata": {},
     "output_type": "display_data"
    }
   ],
   "source": [
    "# Aclohol vs Quality\n",
    "fig = plt.figure(figsize = (10,6))\n",
    "sns.barplot(x = 'quality', y = 'alcohol', data = wine)\n",
    "\n",
    "plt.show()"
   ]
  },
  {
   "cell_type": "code",
   "execution_count": 20,
   "id": "2a58be3c-cf49-4533-8651-d5c546e347a4",
   "metadata": {
    "scrolled": true
   },
   "outputs": [
    {
     "data": {
      "image/png": "[encoded data removed]",
      "text/plain": [
       "<Figure size 1000x600 with 1 Axes>"
      ]
     },
     "metadata": {},
     "output_type": "display_data"
    }
   ],
   "source": [
    "# Sulfur vs Quality\n",
    "fig = plt.figure(figsize = (10,6))\n",
    "sns.barplot(x = 'quality', y = 'free sulfur dioxide', data = wine)\n",
    "\n",
    "plt.show()"
   ]
  },
  {
   "cell_type": "code",
   "execution_count": 21,
   "id": "5d12d96f-0df7-4318-9071-a7c31f940e87",
   "metadata": {
    "scrolled": true
   },
   "outputs": [
    {
     "data": {
      "image/png": "[encoded data removed]",
      "text/plain": [
       "<Figure size 1000x600 with 1 Axes>"
      ]
     },
     "metadata": {},
     "output_type": "display_data"
    }
   ],
   "source": [
    "# pH vs Quality\n",
    "fig = plt.figure(figsize = (10,6))\n",
    "sns.barplot(x = 'quality', y = 'pH', data = wine)\n",
    "\n",
    "plt.show()"
   ]
  },
  {
   "cell_type": "code",
   "execution_count": 22,
   "id": "e64bd7e7-fd1b-45cb-9a69-55af6d5bcc95",
   "metadata": {
    "scrolled": true
   },
   "outputs": [
    {
     "data": {
      "image/png": "[encoded data removed]",
      "text/plain": [
       "<Figure size 1000x600 with 1 Axes>"
      ]
     },
     "metadata": {},
     "output_type": "display_data"
    }
   ],
   "source": [
    "# Totlal sulfur vs Quality\n",
    "fig = plt.figure(figsize = (10,6))\n",
    "sns.barplot(x = 'quality', y = 'total sulfur dioxide', data = wine)\n",
    "\n",
    "plt.show()"
   ]
  },
  {
   "cell_type": "code",
   "execution_count": 23,
   "id": "a916e71b-186e-4580-a95c-2ac0827b06ee",
   "metadata": {
    "scrolled": true
   },
   "outputs": [
    {
     "data": {
      "image/png": "[encoded data removed]",
      "text/plain": [
       "<Figure size 1000x600 with 1 Axes>"
      ]
     },
     "metadata": {},
     "output_type": "display_data"
    }
   ],
   "source": [
    "# Volatility vs Quality\n",
    "fig = plt.figure(figsize = (10,6))\n",
    "sns.barplot(x = 'quality', y = 'volatile acidity', data = wine)\n",
    "\n",
    "plt.show()"
   ]
  },
  {
   "cell_type": "code",
   "execution_count": 24,
   "id": "74de8168-baa4-441a-af27-ffa20ccddd2b",
   "metadata": {
    "scrolled": true
   },
   "outputs": [
    {
     "data": {
      "image/png": "[encoded data removed]",
      "text/plain": [
       "<Figure size 1000x600 with 1 Axes>"
      ]
     },
     "metadata": {},
     "output_type": "display_data"
    }
   ],
   "source": [
    "# Acidity vs Quality\n",
    "fig = plt.figure(figsize = (10,6))\n",
    "sns.barplot(x = 'quality', y = 'fixed acidity', data = wine)\n",
    "\n",
    "plt.show()"
   ]
  },
  {
   "cell_type": "markdown",
   "id": "6436573d-2230-4ecc-aec4-593d4d2ba396",
   "metadata": {},
   "source": [
    "### Categorizing the data"
   ]
  },
  {
   "cell_type": "code",
   "execution_count": 25,
   "id": "35389f91-f152-485e-971c-611d5ec7eb12",
   "metadata": {},
   "outputs": [
    {
     "data": {
      "text/plain": [
       "0       0\n",
       "1       0\n",
       "2       0\n",
       "3       0\n",
       "4       0\n",
       "       ..\n",
       "1594    0\n",
       "1595    0\n",
       "1596    0\n",
       "1597    0\n",
       "1598    0\n",
       "Name: quality, Length: 1599, dtype: int64"
      ]
     },
     "execution_count": 25,
     "metadata": {},
     "output_type": "execute_result"
    }
   ],
   "source": [
    "# Create categories of quality marked 1 and 0 \n",
    "wine.quality = [1 if each >= 7 else 0 for each in wine.quality]\n",
    "wine.quality"
   ]
  },
  {
   "cell_type": "code",
   "execution_count": 26,
   "id": "eea1777c-a32d-4585-a42c-319f18fa33a9",
   "metadata": {},
   "outputs": [
    {
     "data": {
      "text/plain": [
       "quality\n",
       "0    1382\n",
       "1     217\n",
       "Name: count, dtype: int64"
      ]
     },
     "execution_count": 26,
     "metadata": {},
     "output_type": "execute_result"
    }
   ],
   "source": [
    "# Count items assigned to each catgeory \n",
    "wine.quality.value_counts()"
   ]
  },
  {
   "cell_type": "code",
   "execution_count": 32,
   "id": "4dc47b7c-01a7-474b-b6dc-aee694a6d245",
   "metadata": {},
   "outputs": [
    {
     "data": {
      "image/png": "[encoded data removed]",
      "text/plain": [
       "<Figure size 640x480 with 1 Axes>"
      ]
     },
     "metadata": {},
     "output_type": "display_data"
    }
   ],
   "source": [
    "# Plot the categories\n",
    "sns.countplot(wine, x='quality')\n",
    "\n",
    "plt.show()\n",
    "\n"
   ]
  },
  {
   "cell_type": "code",
   "execution_count": 33,
   "id": "8d6a6b15-ed02-4583-a3fa-df107bc9e7bb",
   "metadata": {},
   "outputs": [
    {
     "data": {
      "text/plain": [
       "array([0, 0, 0, ..., 0, 0, 0], dtype=int64)"
      ]
     },
     "execution_count": 33,
     "metadata": {},
     "output_type": "execute_result"
    }
   ],
   "source": [
    "# Calues to predict\n",
    "y = wine.quality.values\n",
    "y"
   ]
  },
  {
   "cell_type": "code",
   "execution_count": 35,
   "id": "df0b666f-e9a3-402d-8725-c2ddb2abd178",
   "metadata": {},
   "outputs": [
    {
     "data": {
      "text/html": [
       "<div>\n",
       "<style scoped>\n",
       "    .dataframe tbody tr th:only-of-type {\n",
       "        vertical-align: middle;\n",
       "    }\n",
       "\n",
       "    .dataframe tbody tr th {\n",
       "        vertical-align: top;\n",
       "    }\n",
       "\n",
       "    .dataframe thead th {\n",
       "        text-align: right;\n",
       "    }\n",
       "</style>\n",
       "<table border=\"1\" class=\"dataframe\">\n",
       "  <thead>\n",
       "    <tr style=\"text-align: right;\">\n",
       "      <th></th>\n",
       "      <th>fixed acidity</th>\n",
       "      <th>volatile acidity</th>\n",
       "      <th>citric acid</th>\n",
       "      <th>residual sugar</th>\n",
       "      <th>chlorides</th>\n",
       "      <th>free sulfur dioxide</th>\n",
       "      <th>total sulfur dioxide</th>\n",
       "      <th>density</th>\n",
       "      <th>pH</th>\n",
       "      <th>sulphates</th>\n",
       "      <th>alcohol</th>\n",
       "    </tr>\n",
       "  </thead>\n",
       "  <tbody>\n",
       "    <tr>\n",
       "      <th>0</th>\n",
       "      <td>7.4</td>\n",
       "      <td>0.70</td>\n",
       "      <td>0.00</td>\n",
       "      <td>1.9</td>\n",
       "      <td>0.076</td>\n",
       "      <td>11.0</td>\n",
       "      <td>34.0</td>\n",
       "      <td>0.9978</td>\n",
       "      <td>3.51</td>\n",
       "      <td>0.56</td>\n",
       "      <td>9.4</td>\n",
       "    </tr>\n",
       "    <tr>\n",
       "      <th>1</th>\n",
       "      <td>7.8</td>\n",
       "      <td>0.88</td>\n",
       "      <td>0.00</td>\n",
       "      <td>2.6</td>\n",
       "      <td>0.098</td>\n",
       "      <td>25.0</td>\n",
       "      <td>67.0</td>\n",
       "      <td>0.9968</td>\n",
       "      <td>3.20</td>\n",
       "      <td>0.68</td>\n",
       "      <td>9.8</td>\n",
       "    </tr>\n",
       "    <tr>\n",
       "      <th>2</th>\n",
       "      <td>7.8</td>\n",
       "      <td>0.76</td>\n",
       "      <td>0.04</td>\n",
       "      <td>2.3</td>\n",
       "      <td>0.092</td>\n",
       "      <td>15.0</td>\n",
       "      <td>54.0</td>\n",
       "      <td>0.9970</td>\n",
       "      <td>3.26</td>\n",
       "      <td>0.65</td>\n",
       "      <td>9.8</td>\n",
       "    </tr>\n",
       "    <tr>\n",
       "      <th>3</th>\n",
       "      <td>11.2</td>\n",
       "      <td>0.28</td>\n",
       "      <td>0.56</td>\n",
       "      <td>1.9</td>\n",
       "      <td>0.075</td>\n",
       "      <td>17.0</td>\n",
       "      <td>60.0</td>\n",
       "      <td>0.9980</td>\n",
       "      <td>3.16</td>\n",
       "      <td>0.58</td>\n",
       "      <td>9.8</td>\n",
       "    </tr>\n",
       "    <tr>\n",
       "      <th>4</th>\n",
       "      <td>7.4</td>\n",
       "      <td>0.70</td>\n",
       "      <td>0.00</td>\n",
       "      <td>1.9</td>\n",
       "      <td>0.076</td>\n",
       "      <td>11.0</td>\n",
       "      <td>34.0</td>\n",
       "      <td>0.9978</td>\n",
       "      <td>3.51</td>\n",
       "      <td>0.56</td>\n",
       "      <td>9.4</td>\n",
       "    </tr>\n",
       "  </tbody>\n",
       "</table>\n",
       "</div>"
      ],
      "text/plain": [
       "   fixed acidity  volatile acidity  citric acid  residual sugar  chlorides  \\\n",
       "0            7.4              0.70         0.00             1.9      0.076   \n",
       "1            7.8              0.88         0.00             2.6      0.098   \n",
       "2            7.8              0.76         0.04             2.3      0.092   \n",
       "3           11.2              0.28         0.56             1.9      0.075   \n",
       "4            7.4              0.70         0.00             1.9      0.076   \n",
       "\n",
       "   free sulfur dioxide  total sulfur dioxide  density    pH  sulphates  \\\n",
       "0                 11.0                  34.0   0.9978  3.51       0.56   \n",
       "1                 25.0                  67.0   0.9968  3.20       0.68   \n",
       "2                 15.0                  54.0   0.9970  3.26       0.65   \n",
       "3                 17.0                  60.0   0.9980  3.16       0.58   \n",
       "4                 11.0                  34.0   0.9978  3.51       0.56   \n",
       "\n",
       "   alcohol  \n",
       "0      9.4  \n",
       "1      9.8  \n",
       "2      9.8  \n",
       "3      9.8  \n",
       "4      9.4  "
      ]
     },
     "execution_count": 35,
     "metadata": {},
     "output_type": "execute_result"
    }
   ],
   "source": [
    "# Remove dependant variable from data\n",
    "x_data = wine.drop([\"quality\"],axis=1)\n",
    "x_data.head(5)"
   ]
  },
  {
   "cell_type": "markdown",
   "id": "6263f699-9d72-4f75-b671-94da1247f82e",
   "metadata": {},
   "source": [
    "### Data preprocessing"
   ]
  },
  {
   "cell_type": "code",
   "execution_count": 36,
   "id": "5233dbc9-7b2f-4fd6-b9ac-a2b86e2a7caf",
   "metadata": {
    "scrolled": true
   },
   "outputs": [
    {
     "data": {
      "text/html": [
       "<div>\n",
       "<style scoped>\n",
       "    .dataframe tbody tr th:only-of-type {\n",
       "        vertical-align: middle;\n",
       "    }\n",
       "\n",
       "    .dataframe tbody tr th {\n",
       "        vertical-align: top;\n",
       "    }\n",
       "\n",
       "    .dataframe thead th {\n",
       "        text-align: right;\n",
       "    }\n",
       "</style>\n",
       "<table border=\"1\" class=\"dataframe\">\n",
       "  <thead>\n",
       "    <tr style=\"text-align: right;\">\n",
       "      <th></th>\n",
       "      <th>fixed acidity</th>\n",
       "      <th>volatile acidity</th>\n",
       "      <th>citric acid</th>\n",
       "      <th>residual sugar</th>\n",
       "      <th>chlorides</th>\n",
       "      <th>free sulfur dioxide</th>\n",
       "      <th>total sulfur dioxide</th>\n",
       "      <th>density</th>\n",
       "      <th>pH</th>\n",
       "      <th>sulphates</th>\n",
       "      <th>alcohol</th>\n",
       "    </tr>\n",
       "  </thead>\n",
       "  <tbody>\n",
       "    <tr>\n",
       "      <th>0</th>\n",
       "      <td>0.025606</td>\n",
       "      <td>0.002422</td>\n",
       "      <td>0.000000</td>\n",
       "      <td>0.006574</td>\n",
       "      <td>0.000263</td>\n",
       "      <td>0.038062</td>\n",
       "      <td>0.117647</td>\n",
       "      <td>0.003453</td>\n",
       "      <td>0.012145</td>\n",
       "      <td>0.001938</td>\n",
       "      <td>0.032526</td>\n",
       "    </tr>\n",
       "    <tr>\n",
       "      <th>1</th>\n",
       "      <td>0.026990</td>\n",
       "      <td>0.003045</td>\n",
       "      <td>0.000000</td>\n",
       "      <td>0.008997</td>\n",
       "      <td>0.000339</td>\n",
       "      <td>0.086505</td>\n",
       "      <td>0.231834</td>\n",
       "      <td>0.003449</td>\n",
       "      <td>0.011073</td>\n",
       "      <td>0.002353</td>\n",
       "      <td>0.033910</td>\n",
       "    </tr>\n",
       "    <tr>\n",
       "      <th>2</th>\n",
       "      <td>0.026990</td>\n",
       "      <td>0.002630</td>\n",
       "      <td>0.000138</td>\n",
       "      <td>0.007958</td>\n",
       "      <td>0.000318</td>\n",
       "      <td>0.051903</td>\n",
       "      <td>0.186851</td>\n",
       "      <td>0.003450</td>\n",
       "      <td>0.011280</td>\n",
       "      <td>0.002249</td>\n",
       "      <td>0.033910</td>\n",
       "    </tr>\n",
       "    <tr>\n",
       "      <th>3</th>\n",
       "      <td>0.038754</td>\n",
       "      <td>0.000969</td>\n",
       "      <td>0.001938</td>\n",
       "      <td>0.006574</td>\n",
       "      <td>0.000260</td>\n",
       "      <td>0.058824</td>\n",
       "      <td>0.207612</td>\n",
       "      <td>0.003453</td>\n",
       "      <td>0.010934</td>\n",
       "      <td>0.002007</td>\n",
       "      <td>0.033910</td>\n",
       "    </tr>\n",
       "    <tr>\n",
       "      <th>4</th>\n",
       "      <td>0.025606</td>\n",
       "      <td>0.002422</td>\n",
       "      <td>0.000000</td>\n",
       "      <td>0.006574</td>\n",
       "      <td>0.000263</td>\n",
       "      <td>0.038062</td>\n",
       "      <td>0.117647</td>\n",
       "      <td>0.003453</td>\n",
       "      <td>0.012145</td>\n",
       "      <td>0.001938</td>\n",
       "      <td>0.032526</td>\n",
       "    </tr>\n",
       "    <tr>\n",
       "      <th>...</th>\n",
       "      <td>...</td>\n",
       "      <td>...</td>\n",
       "      <td>...</td>\n",
       "      <td>...</td>\n",
       "      <td>...</td>\n",
       "      <td>...</td>\n",
       "      <td>...</td>\n",
       "      <td>...</td>\n",
       "      <td>...</td>\n",
       "      <td>...</td>\n",
       "      <td>...</td>\n",
       "    </tr>\n",
       "    <tr>\n",
       "      <th>1594</th>\n",
       "      <td>0.021453</td>\n",
       "      <td>0.002076</td>\n",
       "      <td>0.000277</td>\n",
       "      <td>0.006920</td>\n",
       "      <td>0.000311</td>\n",
       "      <td>0.110727</td>\n",
       "      <td>0.152249</td>\n",
       "      <td>0.003443</td>\n",
       "      <td>0.011938</td>\n",
       "      <td>0.002007</td>\n",
       "      <td>0.036332</td>\n",
       "    </tr>\n",
       "    <tr>\n",
       "      <th>1595</th>\n",
       "      <td>0.020415</td>\n",
       "      <td>0.001903</td>\n",
       "      <td>0.000346</td>\n",
       "      <td>0.007612</td>\n",
       "      <td>0.000215</td>\n",
       "      <td>0.134948</td>\n",
       "      <td>0.176471</td>\n",
       "      <td>0.003443</td>\n",
       "      <td>0.012180</td>\n",
       "      <td>0.002630</td>\n",
       "      <td>0.038754</td>\n",
       "    </tr>\n",
       "    <tr>\n",
       "      <th>1596</th>\n",
       "      <td>0.021799</td>\n",
       "      <td>0.001765</td>\n",
       "      <td>0.000450</td>\n",
       "      <td>0.007958</td>\n",
       "      <td>0.000263</td>\n",
       "      <td>0.100346</td>\n",
       "      <td>0.138408</td>\n",
       "      <td>0.003445</td>\n",
       "      <td>0.011834</td>\n",
       "      <td>0.002595</td>\n",
       "      <td>0.038062</td>\n",
       "    </tr>\n",
       "    <tr>\n",
       "      <th>1597</th>\n",
       "      <td>0.020415</td>\n",
       "      <td>0.002232</td>\n",
       "      <td>0.000415</td>\n",
       "      <td>0.006920</td>\n",
       "      <td>0.000260</td>\n",
       "      <td>0.110727</td>\n",
       "      <td>0.152249</td>\n",
       "      <td>0.003445</td>\n",
       "      <td>0.012353</td>\n",
       "      <td>0.002457</td>\n",
       "      <td>0.035294</td>\n",
       "    </tr>\n",
       "    <tr>\n",
       "      <th>1598</th>\n",
       "      <td>0.020761</td>\n",
       "      <td>0.001073</td>\n",
       "      <td>0.001626</td>\n",
       "      <td>0.012457</td>\n",
       "      <td>0.000232</td>\n",
       "      <td>0.062284</td>\n",
       "      <td>0.145329</td>\n",
       "      <td>0.003445</td>\n",
       "      <td>0.011730</td>\n",
       "      <td>0.002284</td>\n",
       "      <td>0.038062</td>\n",
       "    </tr>\n",
       "  </tbody>\n",
       "</table>\n",
       "<p>1599 rows × 11 columns</p>\n",
       "</div>"
      ],
      "text/plain": [
       "      fixed acidity  volatile acidity  citric acid  residual sugar  chlorides  \\\n",
       "0          0.025606          0.002422     0.000000        0.006574   0.000263   \n",
       "1          0.026990          0.003045     0.000000        0.008997   0.000339   \n",
       "2          0.026990          0.002630     0.000138        0.007958   0.000318   \n",
       "3          0.038754          0.000969     0.001938        0.006574   0.000260   \n",
       "4          0.025606          0.002422     0.000000        0.006574   0.000263   \n",
       "...             ...               ...          ...             ...        ...   \n",
       "1594       0.021453          0.002076     0.000277        0.006920   0.000311   \n",
       "1595       0.020415          0.001903     0.000346        0.007612   0.000215   \n",
       "1596       0.021799          0.001765     0.000450        0.007958   0.000263   \n",
       "1597       0.020415          0.002232     0.000415        0.006920   0.000260   \n",
       "1598       0.020761          0.001073     0.001626        0.012457   0.000232   \n",
       "\n",
       "      free sulfur dioxide  total sulfur dioxide   density        pH  \\\n",
       "0                0.038062              0.117647  0.003453  0.012145   \n",
       "1                0.086505              0.231834  0.003449  0.011073   \n",
       "2                0.051903              0.186851  0.003450  0.011280   \n",
       "3                0.058824              0.207612  0.003453  0.010934   \n",
       "4                0.038062              0.117647  0.003453  0.012145   \n",
       "...                   ...                   ...       ...       ...   \n",
       "1594             0.110727              0.152249  0.003443  0.011938   \n",
       "1595             0.134948              0.176471  0.003443  0.012180   \n",
       "1596             0.100346              0.138408  0.003445  0.011834   \n",
       "1597             0.110727              0.152249  0.003445  0.012353   \n",
       "1598             0.062284              0.145329  0.003445  0.011730   \n",
       "\n",
       "      sulphates   alcohol  \n",
       "0      0.001938  0.032526  \n",
       "1      0.002353  0.033910  \n",
       "2      0.002249  0.033910  \n",
       "3      0.002007  0.033910  \n",
       "4      0.001938  0.032526  \n",
       "...         ...       ...  \n",
       "1594   0.002007  0.036332  \n",
       "1595   0.002630  0.038754  \n",
       "1596   0.002595  0.038062  \n",
       "1597   0.002457  0.035294  \n",
       "1598   0.002284  0.038062  \n",
       "\n",
       "[1599 rows x 11 columns]"
      ]
     },
     "execution_count": 36,
     "metadata": {},
     "output_type": "execute_result"
    }
   ],
   "source": [
    "# Normalize data set\n",
    "x = (x_data - np.min(x_data))/(np.max(x_data)-np.min(x_data))\n",
    "x"
   ]
  },
  {
   "cell_type": "code",
   "execution_count": 37,
   "id": "ad1e6c72-71b7-44f6-8661-4025908f807f",
   "metadata": {},
   "outputs": [],
   "source": [
    "# Training and Test split\n",
    "x_train,x_test,y_train,y_test = train_test_split(x,y,test_size=0.2,random_state=1)"
   ]
  },
  {
   "cell_type": "markdown",
   "id": "12c1b255-4ab5-4aef-aa77-50166f1e93c8",
   "metadata": {},
   "source": [
    "#### Random Forest Classifier"
   ]
  },
  {
   "cell_type": "code",
   "execution_count": 38,
   "id": "cf29463d-ea1e-4f01-98a6-bcfdd7491631",
   "metadata": {},
   "outputs": [
    {
     "name": "stdout",
     "output_type": "stream",
     "text": [
      "Random Forest Score 0.91875\n"
     ]
    }
   ],
   "source": [
    "RF = RandomForestClassifier(n_estimators=200, random_state=1)\n",
    "RF.fit(x_train,y_train)\n",
    "predictions = RF.predict(x_test)\n",
    "score = round(accuracy_score(y_test, predictions), 5)\n",
    "print(\"Random Forest Score {}\".format(score))\n"
   ]
  },
  {
   "cell_type": "markdown",
   "id": "b8062cf8-6ce4-45e9-b121-9f319ba4ce83",
   "metadata": {},
   "source": [
    "#### Cross Validation: Cross-validation gives you a more reliable measure of your models quality.\n",
    "\n"
   ]
  },
  {
   "cell_type": "code",
   "execution_count": 39,
   "id": "0f1b9c16-28d4-44cc-9eb0-dbea8167349b",
   "metadata": {},
   "outputs": [
    {
     "name": "stdout",
     "output_type": "stream",
     "text": [
      "Random Forest Cross Validation Score  0.95\n"
     ]
    }
   ],
   "source": [
    "RF_CrossValidation = cross_val_score(estimator=RF, X=x, y=y, cv = 40)\n",
    "print(\"Random Forest Cross Validation Score \",RF_CrossValidation.max())"
   ]
  },
  {
   "cell_type": "markdown",
   "id": "84fec0b1-1396-4389-a3ab-00814bfd65d4",
   "metadata": {},
   "source": [
    "#### Stochastic Gradient Decent Classifier"
   ]
  },
  {
   "cell_type": "code",
   "execution_count": 40,
   "id": "f51b7b20-03a3-4b3e-b8bd-53656c588d1c",
   "metadata": {},
   "outputs": [
    {
     "name": "stdout",
     "output_type": "stream",
     "text": [
      "Stochastic Gradient Decent Score 0.9\n"
     ]
    }
   ],
   "source": [
    "SGD = SGDClassifier(penalty=None)\n",
    "SGD.fit(x_train,y_train)\n",
    "predictions = SGD.predict(x_test)\n",
    "score = round(accuracy_score(y_test,predictions),5)\n",
    "print(\"Stochastic Gradient Decent Score {}\".format(score))"
   ]
  },
  {
   "cell_type": "markdown",
   "id": "d27db670-f05b-4c2d-b5d2-5ac797179f42",
   "metadata": {},
   "source": [
    "#### Support Vector Machine Classifier"
   ]
  },
  {
   "cell_type": "code",
   "execution_count": 41,
   "id": "481474f9-2540-4611-9d9e-c0182ee6755c",
   "metadata": {},
   "outputs": [
    {
     "name": "stdout",
     "output_type": "stream",
     "text": [
      "Support Vector Machine Score 0.90312\n"
     ]
    }
   ],
   "source": [
    "SVM = SVC(random_state=1)\n",
    "SVM.fit(x_train,y_train)\n",
    "predictions = SVM.predict(x_test)\n",
    "score = round(accuracy_score(y_test,predictions),5)\n",
    "print(\"Support Vector Machine Score {}\".format(score))"
   ]
  },
  {
   "cell_type": "markdown",
   "id": "c304d110-dc40-47ec-bda3-6daa1a0777fa",
   "metadata": {},
   "source": [
    "#### Grid Search CV\n",
    "-Grid search is the process of performing hyper parameter tuning in order to determine the optimal values for a given model. "
   ]
  },
  {
   "cell_type": "code",
   "execution_count": 42,
   "id": "0a0c33c6-4bbb-4955-bf2a-c5d2d95db0f6",
   "metadata": {},
   "outputs": [
    {
     "data": {
      "text/plain": [
       "{'C': 0.1, 'gamma': 0.1, 'kernel': 'linear'}"
      ]
     },
     "execution_count": 42,
     "metadata": {},
     "output_type": "execute_result"
    }
   ],
   "source": [
    "param = {\n",
    "    'C'     :[0.1,0.5,0.9,1,1.5,1.2,1.3,1.4],\n",
    "    'kernel':['linear', 'rbf'],\n",
    "    'gamma' :[0.1,0.8,0.9,1,1.1,1.2,1.3,1.4]\n",
    "}\n",
    "SVM_GridSearchCV = GridSearchCV(SVM, param_grid=param, scoring='accuracy', cv=40)\n",
    "SVM_GridSearchCV.fit(x_train,y_train)\n",
    "SVM_GridSearchCV.best_params_"
   ]
  },
  {
   "cell_type": "code",
   "execution_count": 44,
   "id": "28841e89-b986-4613-bf63-3fd507fdd1f0",
   "metadata": {},
   "outputs": [
    {
     "name": "stdout",
     "output_type": "stream",
     "text": [
      "Support Vector Machine Grid Search CV Score 0.9\n"
     ]
    }
   ],
   "source": [
    "SVM_BestGridSearchCV1 = SVC(C = 0.1, gamma = 0.1, kernel = 'linear')\n",
    "SVM_BestGridSearchCV1.fit(x_train,y_train)\n",
    "predictions = SVM_BestGridSearchCV1.predict(x_test)\n",
    "score = round(accuracy_score(y_test,predictions),5)\n",
    "print(\"Support Vector Machine Grid Search CV Score {}\".format(score))"
   ]
  }
 ],
 "metadata": {
  "kernelspec": {
   "display_name": "Python 3 (ipykernel)",
   "language": "python",
   "name": "python3"
  },
  "language_info": {
   "codemirror_mode": {
    "name": "ipython",
    "version": 3
   },
   "file_extension": ".py",
   "mimetype": "text/x-python",
   "name": "python",
   "nbconvert_exporter": "python",
   "pygments_lexer": "ipython3",
   "version": "3.12.7"
  }
 },
 "nbformat": 4,
 "nbformat_minor": 5
}
